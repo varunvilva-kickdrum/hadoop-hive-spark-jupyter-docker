{
 "cells": [
  {
   "cell_type": "code",
   "execution_count": 1,
   "id": "f7dfa97e-a42d-4bc5-b5a9-49ed18ffe9c0",
   "metadata": {},
   "outputs": [
    {
     "data": {
      "text/html": [
       "\n",
       "            <div>\n",
       "                <p><b>SparkSession - in-memory</b></p>\n",
       "                \n",
       "        <div>\n",
       "            <p><b>SparkContext</b></p>\n",
       "\n",
       "            <p><a href=\"http://b11e9dc8d104:4040\">Spark UI</a></p>\n",
       "\n",
       "            <dl>\n",
       "              <dt>Version</dt>\n",
       "                <dd><code>v3.5.0</code></dd>\n",
       "              <dt>Master</dt>\n",
       "                <dd><code>spark://spark-master:7077</code></dd>\n",
       "              <dt>AppName</dt>\n",
       "                <dd><code>pyspark-shell</code></dd>\n",
       "            </dl>\n",
       "        </div>\n",
       "        \n",
       "            </div>\n",
       "        "
      ],
      "text/plain": [
       "<pyspark.sql.session.SparkSession at 0x7644477ef810>"
      ]
     },
     "execution_count": 1,
     "metadata": {},
     "output_type": "execute_result"
    }
   ],
   "source": [
    "from pyspark.sql import SparkSession\n",
    "\n",
    "spark = SparkSession.builder.master(\"spark://spark-master:7077\").getOrCreate()\n",
    "spark"
   ]
  },
  {
   "cell_type": "code",
   "execution_count": 12,
   "id": "0508b689-6c0c-4939-8c27-e882bfc3262e",
   "metadata": {},
   "outputs": [],
   "source": [
    "df = spark.read.option(\"header\", \"true\").option(\"inferSchema\", \"true\").csv(\"hdfs://namenode:9000/data/cities.csv\")"
   ]
  },
  {
   "cell_type": "code",
   "execution_count": 13,
   "id": "d64d845e-b39d-48a7-bdf4-a74ac9b4b2bc",
   "metadata": {},
   "outputs": [
    {
     "name": "stdout",
     "output_type": "stream",
     "text": [
      "+----------+--------------------+-----+---------+--------------------+\n",
      "|   city_id|                city|state|state_abv|             country|\n",
      "+----------+--------------------+-----+---------+--------------------+\n",
      "| 324732552|   ladang ulu bernam| NULL|     NULL|            Malaysia|\n",
      "|2010991182|        `ali rowshan| NULL|     NULL|                Iran|\n",
      "| 741912760|              borovo| NULL|     NULL|Bosnia and Herzeg...|\n",
      "| 604192006|         aillo talor| NULL|     NULL|               Chile|\n",
      "| 752393249|      sheykheh koreh| NULL|     NULL|                Iran|\n",
      "| 797426237|          saro harai| NULL|     NULL|            Pakistan|\n",
      "|1339946600|            lamadihi| NULL|     NULL|               Nepal|\n",
      "| 216616140|            krokohwe| NULL|     NULL|               Ghana|\n",
      "|1738243674|      ianakandrarezo| NULL|     NULL|          Madagascar|\n",
      "|1989452216|               bumay| NULL|     NULL|         Afghanistan|\n",
      "|1972802272|         bogale-kota| NULL|     NULL|Central African R...|\n",
      "| 544082861|        kanakendries| NULL|     NULL|             Belgium|\n",
      "| 750255793|          belempinse| NULL|     NULL|               Ghana|\n",
      "|1954105415|            stoudena| NULL|     NULL|            Bulgaria|\n",
      "| 445408786|montefalcone appe...| NULL|     NULL|               Italy|\n",
      "|1761805109|       moradi janjil| NULL|     NULL|            Pakistan|\n",
      "|1344128190|   hillat el hasanab| NULL|     NULL|               Sudan|\n",
      "| 519246773|     ban kaeng waeng| NULL|     NULL|            Thailand|\n",
      "| 983374866|             vorenos| NULL|     NULL|              Greece|\n",
      "|2128605883|               rusor| NULL|     NULL|             Romania|\n",
      "+----------+--------------------+-----+---------+--------------------+\n",
      "only showing top 20 rows\n",
      "\n"
     ]
    }
   ],
   "source": [
    "df.show()"
   ]
  },
  {
   "cell_type": "code",
   "execution_count": 22,
   "id": "22a8ffdf-b3a9-4d81-a1e2-1fac4b0c049b",
   "metadata": {},
   "outputs": [],
   "source": [
    "df = spark.read.option(\"header\", \"true\").option(\"inferSchema\", \"true\").csv(\"hdfs://namenode:9000/data/new_sales-Copy1.csv\")"
   ]
  },
  {
   "cell_type": "code",
   "execution_count": 26,
   "id": "93218d44-ef1b-4d83-81ac-bb594a3f09f8",
   "metadata": {},
   "outputs": [
    {
     "name": "stdout",
     "output_type": "stream",
     "text": [
      "Row(transacted_at=datetime.datetime(2017, 5, 8, 17, 0), trx_id=1750168197, retailer_id=847200066, description='unkn     arc id: 869738     Kampala   05-08', amount='40.000000000000000000', city_id=1462628288, partition_id=11)\n",
      "Row(transacted_at=datetime.datetime(2017, 5, 8, 17, 0), trx_id=1750168165, retailer_id=847200066, description='unkn   arc id: 436999', amount='177.540000000000000000', city_id=1678157838, partition_id=11)\n",
      "Row(transacted_at=datetime.datetime(2017, 5, 8, 17, 0), trx_id=1750168164, retailer_id=1334799521, description='TJ Max     arc id: 328073  Baghdad', amount='43.280000000000000000', city_id=278942227, partition_id=11)\n",
      "Row(transacted_at=datetime.datetime(2017, 5, 8, 17, 0), trx_id=1750168158, retailer_id=1157343460, description='unkn    ppd id: 375537', amount='33.270000000000000000', city_id=380143978, partition_id=11)\n",
      "Row(transacted_at=datetime.datetime(2017, 5, 8, 17, 0), trx_id=1750168131, retailer_id=2077350195, description='Walgreen', amount='12.110000000000000000', city_id=1765788038, partition_id=11)\n",
      "Row(transacted_at=datetime.datetime(2017, 5, 8, 17, 0), trx_id=1750167418, retailer_id=1468277998, description='Alimentation Couche-Tard     ppd id: 845303    Dar es Salaam    05-08', amount='491.780000000000000000', city_id=1898204901, partition_id=11)\n",
      "Row(transacted_at=datetime.datetime(2017, 5, 8, 17, 0), trx_id=1750167416, retailer_id=847200066, description='Wal-Mart   ccd id: 972404', amount='381.720000000000000000', city_id=2078628066, partition_id=11)\n",
      "Row(transacted_at=datetime.datetime(2017, 5, 8, 17, 0), trx_id=1750167415, retailer_id=356284552, description='Publix Super Markets   ccd id: 628057  Ulaanbaatar', amount='92.320000000000000000', city_id=1314899995, partition_id=11)\n",
      "Row(transacted_at=datetime.datetime(2017, 5, 8, 17, 0), trx_id=1750167390, retailer_id=847200066, description='Wal-Mart     ppd id: 909246     Sacramento', amount='487.680000000000000000', city_id=287177635, partition_id=11)\n",
      "Row(transacted_at=datetime.datetime(2017, 5, 8, 17, 0), trx_id=1750167382, retailer_id=847200066, description='unkn     arc id: 480732', amount='25.130000000000000000', city_id=1249235966, partition_id=11)\n",
      "Row(transacted_at=datetime.datetime(2017, 5, 8, 17, 0), trx_id=1750167322, retailer_id=887300947, description='unkn  ccd id: 573238    Concord', amount='622.940000000000000000', city_id=1606354386, partition_id=11)\n",
      "Row(transacted_at=datetime.datetime(2017, 5, 8, 17, 0), trx_id=1750167263, retailer_id=771821475, description='unkn        Copenhagen  05-08', amount='1961.500000000000000000', city_id=1344092735, partition_id=11)\n",
      "Row(transacted_at=datetime.datetime(2017, 5, 8, 17, 0), trx_id=1750167258, retailer_id=103953879, description='unkn  ccd id: 957220  Guatemala City', amount='69.620000000000000000', city_id=1567838466, partition_id=11)\n",
      "Row(transacted_at=datetime.datetime(2017, 5, 8, 17, 0), trx_id=1750167235, retailer_id=1313057208, description='Tractor Supply Co.        Beirut  05-09', amount='18.110000000000000000', city_id=592064091, partition_id=11)\n",
      "Row(transacted_at=datetime.datetime(2017, 5, 8, 17, 0), trx_id=1750167198, retailer_id=2077350195, description='unkn    ccd id: 263427', amount='1222.850000000000000000', city_id=1898204901, partition_id=11)\n",
      "Row(transacted_at=datetime.datetime(2017, 5, 8, 17, 0), trx_id=1750167174, retailer_id=202319369, description='unkn', amount='208.510000000000000000', city_id=1773943669, partition_id=11)\n",
      "Row(transacted_at=datetime.datetime(2017, 5, 8, 17, 0), trx_id=1750166461, retailer_id=1070485878, description='Amazon.com   ppd id: 620086    Columbia', amount='4.780000000000000000', city_id=481821583, partition_id=11)\n",
      "Row(transacted_at=datetime.datetime(2017, 5, 8, 17, 0), trx_id=1750166460, retailer_id=2139149619, description='unkn   ppd id: 735650     Vaiaku village, Funafuti province', amount='18.510000000000000000', city_id=699300425, partition_id=11)\n",
      "Row(transacted_at=datetime.datetime(2017, 5, 8, 17, 0), trx_id=1750166457, retailer_id=887300947, description='Kroger     arc id: 997483', amount='2755.330000000000000000', city_id=1802488818, partition_id=11)\n",
      "Row(transacted_at=datetime.datetime(2017, 5, 8, 17, 0), trx_id=1750166455, retailer_id=847200066, description='unkn  ccd id: 590430  Providence', amount='41.600000000000000000', city_id=None, partition_id=11)\n"
     ]
    }
   ],
   "source": [
    "from pyspark.sql.functions import spark_partition_id\n",
    "df_part = df.withColumn('partition_id', spark_partition_id())\n",
    "last_20_rows = df_part.collect()[-20:]\n",
    "\n",
    "# To print them nicely:\n",
    "for row in last_20_rows:\n",
    "    print(row)"
   ]
  },
  {
   "cell_type": "code",
   "execution_count": null,
   "id": "42369b87-aba6-421d-9a29-cc696acf0825",
   "metadata": {},
   "outputs": [],
   "source": []
  }
 ],
 "metadata": {
  "kernelspec": {
   "display_name": "Python 3 (ipykernel)",
   "language": "python",
   "name": "python3"
  },
  "language_info": {
   "codemirror_mode": {
    "name": "ipython",
    "version": 3
   },
   "file_extension": ".py",
   "mimetype": "text/x-python",
   "name": "python",
   "nbconvert_exporter": "python",
   "pygments_lexer": "ipython3",
   "version": "3.11.6"
  }
 },
 "nbformat": 4,
 "nbformat_minor": 5
}
