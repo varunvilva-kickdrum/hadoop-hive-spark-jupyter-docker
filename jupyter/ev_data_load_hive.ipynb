{
 "cells": [
  {
   "cell_type": "code",
   "execution_count": 1,
   "id": "98dc8c10-0586-4620-9de9-3c6cc7dc6f1e",
   "metadata": {},
   "outputs": [
    {
     "name": "stdout",
     "output_type": "stream",
     "text": [
      "+---------+\n",
      "|namespace|\n",
      "+---------+\n",
      "|  default|\n",
      "|  test_db|\n",
      "+---------+\n",
      "\n"
     ]
    }
   ],
   "source": [
    "from pyspark.sql import SparkSession\n",
    "\n",
    "# Create a Spark session with Hive support\n",
    "spark = SparkSession.builder \\\n",
    "    .appName(\"ev data load to hive\") \\\n",
    "    .config(\"spark.master\", \"spark://spark-master:7077\") \\\n",
    "    .config(\"spark.jars\", \"/opt/spark/jars/hudi-spark3-bundle_2.12-1.0.0.jar\") \\\n",
    "    .config(\"spark.sql.warehouse.dir\", \"hdfs://namenode:9000/user/hive/warehouse\") \\\n",
    "    .config(\"hive.metastore.uris\", \"thrift://hive:9083\") \\\n",
    "    .config(\"spark.executor.cores\", \"2\")\\\n",
    "    .enableHiveSupport() \\\n",
    "    .getOrCreate()\n",
    "\n",
    "# Query Hive\n",
    "result = spark.sql(\"SHOW DATABASES\")\n",
    "result.show()"
   ]
  },
  {
   "cell_type": "code",
   "execution_count": 13,
   "id": "9ee4153a-fb8c-48be-a577-ed897e157baf",
   "metadata": {},
   "outputs": [
    {
     "name": "stdout",
     "output_type": "stream",
     "text": [
      "+---------+\n",
      "|namespace|\n",
      "+---------+\n",
      "|  default|\n",
      "+---------+\n",
      "\n"
     ]
    }
   ],
   "source": [
    "result = spark.sql(\"SHOW DATABASES\")\n",
    "result.show()"
   ]
  },
  {
   "cell_type": "code",
   "execution_count": 14,
   "id": "40f9650e-a43a-4acf-ae49-db1f2c4493c4",
   "metadata": {},
   "outputs": [
    {
     "data": {
      "text/plain": [
       "DataFrame[]"
      ]
     },
     "execution_count": 14,
     "metadata": {},
     "output_type": "execute_result"
    }
   ],
   "source": [
    "spark.sql(\"CREATE DATABASE IF NOT EXISTS ev_data\")"
   ]
  },
  {
   "cell_type": "code",
   "execution_count": 15,
   "id": "8105d12b-7712-4dcb-846a-fd58c6e3ef8a",
   "metadata": {},
   "outputs": [],
   "source": [
    "spark.catalog.setCurrentDatabase(\"ev_data\")"
   ]
  },
  {
   "cell_type": "code",
   "execution_count": 3,
   "id": "7323e7d1-dd7b-4242-b2cc-7f7abc316739",
   "metadata": {},
   "outputs": [],
   "source": [
    "df_read = spark.read.format(\"hudi\").load(\"hdfs://namenode:9000/data/hudi/ev_data_cleaned\")"
   ]
  },
  {
   "cell_type": "code",
   "execution_count": 16,
   "id": "573b1ea0-3668-4907-8325-17da55a0c55f",
   "metadata": {},
   "outputs": [],
   "source": [
    "df_read.write.mode(\"overwrite\").saveAsTable(\"ev_data.ev_vehicles_cleaned\")"
   ]
  },
  {
   "cell_type": "code",
   "execution_count": 18,
   "id": "b2b31148-4270-4c37-82bb-5a1356047a3c",
   "metadata": {},
   "outputs": [
    {
     "name": "stdout",
     "output_type": "stream",
     "text": [
      "+-------------------+--------------------+------------------+----------------------+--------------------+--------------+------------+-------------+-----------+----------+--------+--------------+--------------------+--------------------+--------------+---------+--------------------+--------------------+----------+--------+--------------------+-----+\n",
      "|_hoodie_commit_time|_hoodie_commit_seqno|_hoodie_record_key|_hoodie_partition_path|   _hoodie_file_name|vehical_number|      county|         city|postal_code|model_year|    make|         model|        vehical_type|    cavf_eligibility|electric_range|base_msrp|legislative_district|    electric_utility| longitude|latitude|          event_time|state|\n",
      "+-------------------+--------------------+------------------+----------------------+--------------------+--------------+------------+-------------+-----------+----------+--------+--------------+--------------------+--------------------+--------------+---------+--------------------+--------------------+----------+--------+--------------------+-----+\n",
      "|  20250522172355543|20250522172355543...|        5YJXCDE48J|              state=WA|b28845a5-ad28-4ea...|    5YJXCDE48J|       Mason|      Belfair|      98528|      2018|   TESLA|       MODEL X|Battery Electric ...|Clean Alternative...|           238|        0|                  35|CITY OF TACOMA - ...|-122.82802|47.44998|2025-05-22 17:23:...|   WA|\n",
      "|  20250522172355543|20250522172355543...|        LPSED3KA1N|              state=WA|b28845a5-ad28-4ea...|    LPSED3KA1N|      Kitsap|   Silverdale|      98383|      2022|POLESTAR|           PS2|Battery Electric ...|Eligibility unkno...|             0|        0|                  23|PUGET SOUND ENERG...|-122.69275|47.65171|2025-05-22 17:23:...|   WA|\n",
      "|  20250522172355543|20250522172355543...|        WAUAHBFW9N|              state=WA|b28845a5-ad28-4ea...|    WAUAHBFW9N|        King|       Renton|      98059|      2022|    AUDI|  RS E-TRON GT|Battery Electric ...|Eligibility unkno...|             0|        0|                  11|PUGET SOUND ENERG...|-122.15716|47.48852|2025-05-22 17:23:...|   WA|\n",
      "|  20250522172355543|20250522172355543...|        JTDKARFP0L|              state=WA|b28845a5-ad28-4ea...|    JTDKARFP0L|      Skagit|   Burlington|      98233|      2020|  TOYOTA|   PRIUS PRIME|Plug-in Hybrid El...|Not eligible due ...|            25|        0|                  40|PUGET SOUND ENERG...|-122.33029|48.46846|2025-05-22 17:23:...|   WA|\n",
      "|  20250522172355543|20250522172355543...|        7G2CEHED3R|              state=WA|b28845a5-ad28-4ea...|    7G2CEHED3R|   Snohomish|    Snohomish|      98296|      2024|   TESLA|    CYBERTRUCK|Battery Electric ...|Eligibility unkno...|             0|        0|                  44|PUGET SOUND ENERG...| -122.1389|47.87115|2025-05-22 17:23:...|   WA|\n",
      "|  20250522172355543|20250522172355543...|        WAUSPBFFXJ|              state=WA|b28845a5-ad28-4ea...|    WAUSPBFFXJ|      Pierce|       Tacoma|      98406|      2018|    AUDI|            A3|Plug-in Hybrid El...|Not eligible due ...|            16|        0|                  27|BONNEVILLE POWER ...|-122.52082|47.26887|2025-05-22 17:23:...|   WA|\n",
      "|  20250522172355543|20250522172355543...|        7PDSGBBA2R|              state=WA|b28845a5-ad28-4ea...|    7PDSGBBA2R|      Pierce|     Edgewood|      98371|      2024|  RIVIAN|           R1S|Battery Electric ...|Eligibility unkno...|             0|        0|                  31|PUGET SOUND ENERG...|-122.29521|47.19045|2025-05-22 17:23:...|   WA|\n",
      "|  20250522172355543|20250522172355543...|        KNDRMDJH5S|              state=WA|b28845a5-ad28-4ea...|    KNDRMDJH5S|    Kittitas|     Cle Elum|      98922|      2025|     KIA|       SORENTO|Plug-in Hybrid El...|Clean Alternative...|            30|        0|                  13|PUGET SOUND ENERG...|-120.93943|  47.195|2025-05-22 17:23:...|   WA|\n",
      "|  20250522172355543|20250522172355543...|        WBY8P8C07L|              state=WA|b28845a5-ad28-4ea...|    WBY8P8C07L|     Spokane|      Spokane|      99205|      2020|     BMW|            I3|Plug-in Hybrid El...|Clean Alternative...|           126|        0|                   3|MODERN ELECTRIC W...|-117.45674|47.69963|2025-05-22 17:23:...|   WA|\n",
      "|  20250522172355543|20250522172355543...|        1C4RJYE6XP|              state=WA|b28845a5-ad28-4ea...|    1C4RJYE6XP| Walla Walla|College Place|      99324|      2023|    JEEP|GRAND CHEROKEE|Plug-in Hybrid El...|Not eligible due ...|            25|        0|                  16|          PACIFICORP|-118.38864|46.03456|2025-05-22 17:23:...|   WA|\n",
      "|  20250522172355543|20250522172355543...|        SADHD2S17K|              state=WA|b28845a5-ad28-4ea...|    SADHD2S17K|        King|      Seattle|      98101|      2019|  JAGUAR|        I-PACE|Battery Electric ...|Clean Alternative...|           234|        0|                  43|CITY OF SEATTLE -...|-122.34223|47.61085|2025-05-22 17:23:...|   WA|\n",
      "|  20250522172355543|20250522172355543...|        5YJSA1AG1D|              state=WA|b28845a5-ad28-4ea...|    5YJSA1AG1D|       Grant|      Othello|      99344|      2013|   TESLA|       MODEL S|Battery Electric ...|Clean Alternative...|           208|    69900|                  13|PUD NO 2 OF GRANT...| -119.1742|46.82616|2025-05-22 17:23:...|   WA|\n",
      "|  20250522172355543|20250522172355543...|        YV4ED3UL4P|              state=WA|b28845a5-ad28-4ea...|    YV4ED3UL4P|        King|    Sammamish|      98074|      2023|   VOLVO|          XC40|Battery Electric ...|Eligibility unkno...|             0|        0|                  45|PUGET SOUND ENERG...|-122.02054|47.60326|2025-05-22 17:23:...|   WA|\n",
      "|  20250522172355543|20250522172355543...|        7SAYGAEE7S|              state=WA|b28845a5-ad28-4ea...|    7SAYGAEE7S|       Clark|    Vancouver|      98682|      2025|   TESLA|       MODEL Y|Battery Electric ...|Eligibility unkno...|             0|        0|                  17|BONNEVILLE POWER ...|-122.55149|45.69345|2025-05-22 17:23:...|   WA|\n",
      "|  20250522172355543|20250522172355543...|        YV4BR0DL2K|              state=WA|b28845a5-ad28-4ea...|    YV4BR0DL2K|        King|       Auburn|      98092|      2019|   VOLVO|          XC60|Plug-in Hybrid El...|Not eligible due ...|            17|        0|                  47|PUGET SOUND ENERG...| -122.1821| 47.3199|2025-05-22 17:23:...|   WA|\n",
      "|  20250522172355543|20250522172355543...|        WP1AE2A27F|              state=WA|b28845a5-ad28-4ea...|    WP1AE2A27F|     Spokane|      Spokane|      99208|      2015| PORSCHE|       CAYENNE|Plug-in Hybrid El...|Not eligible due ...|            14|        0|                   7|BONNEVILLE POWER ...|-117.45005| 47.7333|2025-05-22 17:23:...|   WA|\n",
      "|  20250522172355543|20250522172355543...|        KNDC3DLC6N|              state=WA|b28845a5-ad28-4ea...|    KNDC3DLC6N|     Whatcom|   Bellingham|      98225|      2022|     KIA|           EV6|Battery Electric ...|Eligibility unkno...|             0|        0|                  40|PUGET SOUND ENERG...|-122.47107|48.75245|2025-05-22 17:23:...|   WA|\n",
      "|  20250522172355543|20250522172355543...|        1FTBW3XK8P|              state=WA|b28845a5-ad28-4ea...|    1FTBW3XK8P|     Spokane|      Spokane|      99201|      2023|    FORD|       TRANSIT|Battery Electric ...|Eligibility unkno...|             0|        0|                   3|MODERN ELECTRIC W...|-117.41162|47.65726|2025-05-22 17:23:...|   WA|\n",
      "|  20250522172355543|20250522172355543...|        5YJXCBE43G|              state=WA|b28845a5-ad28-4ea...|    5YJXCBE43G|Grays Harbor|    Montesano|      98563|      2016|   TESLA|       MODEL X|Battery Electric ...|Clean Alternative...|           200|        0|                  19|BONNEVILLE POWER ...|-123.60076|46.98384|2025-05-22 17:23:...|   WA|\n",
      "|  20250522172355543|20250522172355543...|        1C4RJYB61P|              state=WA|b28845a5-ad28-4ea...|    1C4RJYB61P|     Spokane|      Spokane|      99217|      2023|    JEEP|GRAND CHEROKEE|Plug-in Hybrid El...|Not eligible due ...|            25|        0|                   4|BONNEVILLE POWER ...|-117.35298|47.70433|2025-05-22 17:23:...|   WA|\n",
      "+-------------------+--------------------+------------------+----------------------+--------------------+--------------+------------+-------------+-----------+----------+--------+--------------+--------------------+--------------------+--------------+---------+--------------------+--------------------+----------+--------+--------------------+-----+\n",
      "only showing top 20 rows\n",
      "\n"
     ]
    }
   ],
   "source": [
    "spark.sql(\"SELECT * from ev_data.ev_vehicles_cleaned\").show()"
   ]
  },
  {
   "cell_type": "code",
   "execution_count": 7,
   "id": "d37b2947-7c69-4c93-87c2-5de1f0697d57",
   "metadata": {},
   "outputs": [
    {
     "name": "stdout",
     "output_type": "stream",
     "text": [
      "root\n",
      " |-- _hoodie_commit_time: string (nullable = true)\n",
      " |-- _hoodie_commit_seqno: string (nullable = true)\n",
      " |-- _hoodie_record_key: string (nullable = true)\n",
      " |-- _hoodie_partition_path: string (nullable = true)\n",
      " |-- _hoodie_file_name: string (nullable = true)\n",
      " |-- vehical_number: string (nullable = true)\n",
      " |-- county: string (nullable = false)\n",
      " |-- city: string (nullable = false)\n",
      " |-- postal_code: integer (nullable = false)\n",
      " |-- model_year: integer (nullable = false)\n",
      " |-- make: string (nullable = true)\n",
      " |-- model: string (nullable = true)\n",
      " |-- vehical_type: string (nullable = true)\n",
      " |-- cavf_eligibility: string (nullable = true)\n",
      " |-- electric_range: integer (nullable = false)\n",
      " |-- base_msrp: integer (nullable = false)\n",
      " |-- legislative_district: integer (nullable = false)\n",
      " |-- electric_utility: string (nullable = false)\n",
      " |-- longitude: double (nullable = false)\n",
      " |-- latitude: double (nullable = false)\n",
      " |-- event_time: timestamp (nullable = false)\n",
      " |-- state: string (nullable = true)\n",
      "\n"
     ]
    }
   ],
   "source": [
    "df_read.printSchema()"
   ]
  },
  {
   "cell_type": "code",
   "execution_count": 45,
   "id": "60924c13-c671-4e03-a5a8-b70c49a24c8c",
   "metadata": {},
   "outputs": [
    {
     "name": "stdout",
     "output_type": "stream",
     "text": [
      "+---------+-----+\n",
      "|     make|count|\n",
      "+---------+-----+\n",
      "|    TESLA|  850|\n",
      "|CHEVROLET|  626|\n",
      "|    VOLVO|  581|\n",
      "|      BMW|  323|\n",
      "|      KIA|  311|\n",
      "+---------+-----+\n",
      "\n"
     ]
    }
   ],
   "source": [
    "#Top five model in WA state that are a cleaner alternative that people prefer\n",
    "spark.sql(\"\"\"\n",
    "SELECT make, COUNT(vehical_number) as count\n",
    "FROM  ev_data.ev_vehicles_cleaned\n",
    "WHERE state = 'WA' AND cavf_eligibility LIKE 'Clean Alternative%'\n",
    "GROUP BY make\n",
    "ORDER BY  count DESC\n",
    "LIMIT 5;\n",
    "\"\"\").show()"
   ]
  }
 ],
 "metadata": {
  "kernelspec": {
   "display_name": "Python 3 (ipykernel)",
   "language": "python",
   "name": "python3"
  },
  "language_info": {
   "codemirror_mode": {
    "name": "ipython",
    "version": 3
   },
   "file_extension": ".py",
   "mimetype": "text/x-python",
   "name": "python",
   "nbconvert_exporter": "python",
   "pygments_lexer": "ipython3",
   "version": "3.11.6"
  }
 },
 "nbformat": 4,
 "nbformat_minor": 5
}
