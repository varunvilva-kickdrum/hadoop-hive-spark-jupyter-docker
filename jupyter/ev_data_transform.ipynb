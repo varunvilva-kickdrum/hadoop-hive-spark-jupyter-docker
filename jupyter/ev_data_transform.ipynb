{
 "cells": [
  {
   "cell_type": "code",
   "execution_count": 1,
   "id": "c64f95bc-d0d7-4647-b29d-42bc2685950a",
   "metadata": {},
   "outputs": [],
   "source": [
    "from pyspark.sql.functions import *\n",
    "from pyspark.sql.types import *\n",
    "from pyspark.sql import SparkSession\n",
    "spark = SparkSession.builder \\\n",
    "    .appName(\"EV Analytics Pipeline\") \\\n",
    "    .config(\"spark.jars\", \"/opt/spark/jars/hudi-spark3-bundle_2.12-1.0.0.jar\") \\\n",
    "    .config(\"spark.serializer\", \"org.apache.spark.serializer.KryoSerializer\") \\\n",
    "    .config(\"spark.sql.extensions\", \"org.apache.spark.sql.hudi.HoodieSparkSessionExtension\") \\\n",
    "    .config(\"spark.sql.legacy.parquet.datetimeRebaseModeInWrite\", \"CORRECTED\") \\\n",
    "    .config(\"spark.sql.legacy.parquet.datetimeRebaseModeInRead\", \"CORRECTED\") \\\n",
    "    .master(\"spark://spark-master:7077\")\\\n",
    "    .getOrCreate()"
   ]
  },
  {
   "cell_type": "code",
   "execution_count": 16,
   "id": "99fa8f9f-763d-4219-a78a-106e83141029",
   "metadata": {},
   "outputs": [],
   "source": [
    "df = spark.read.load(\"hdfs://namenode:9000/data/Electric_Vehicle_Population_Data.csv\", format=\"csv\", sep=\",\", inferSchema=\"true\", header=\"true\")"
   ]
  },
  {
   "cell_type": "code",
   "execution_count": 17,
   "id": "5d6b52ee-f037-4aa1-9247-a7256772f55a",
   "metadata": {},
   "outputs": [
    {
     "name": "stdout",
     "output_type": "stream",
     "text": [
      "+----------+---------+----------+-----+-----------+----------+---------+-----------+---------------------+-------------------------------------------------+--------------+---------+--------------------+--------------+--------------------+--------------------+-----------------+\n",
      "|VIN (1-10)|   County|      City|State|Postal Code|Model Year|     Make|      Model|Electric Vehicle Type|Clean Alternative Fuel Vehicle (CAFV) Eligibility|Electric Range|Base MSRP|Legislative District|DOL Vehicle ID|    Vehicle Location|    Electric Utility|2020 Census Tract|\n",
      "+----------+---------+----------+-----+-----------+----------+---------+-----------+---------------------+-------------------------------------------------+--------------+---------+--------------------+--------------+--------------------+--------------------+-----------------+\n",
      "|5YJ3E1EB6K|     King|   Seattle|   WA|      98178|      2019|    TESLA|    MODEL 3| Battery Electric ...|                             Clean Alternative...|           220|        0|                  37|     101250425|POINT (-122.23825...|CITY OF SEATTLE -...|      53033011902|\n",
      "|5YJYGAEE5M|   Yakima|     Selah|   WA|      98942|      2021|    TESLA|    MODEL Y| Battery Electric ...|                             Eligibility unkno...|             0|        0|                  15|     224162858|POINT (-120.53145...|          PACIFICORP|      53077003100|\n",
      "|5YJSA1E65N|   Yakima|   Granger|   WA|      98932|      2022|    TESLA|    MODEL S| Battery Electric ...|                             Eligibility unkno...|             0|        0|                  15|     187279214|POINT (-120.1871 ...|          PACIFICORP|      53077002104|\n",
      "|5YJ3E1EBXN|     King|  Bellevue|   WA|      98004|      2022|    TESLA|    MODEL 3| Battery Electric ...|                             Eligibility unkno...|             0|        0|                  41|     219428079|POINT (-122.1872 ...|PUGET SOUND ENERG...|      53033023902|\n",
      "|JM3KKEHA8S| Thurston|      Yelm|   WA|      98597|      2025|    MAZDA|      CX-90| Plug-in Hybrid El...|                             Not eligible due ...|            26|        0|                   2|     277791643|POINT (-122.60735...|PUGET SOUND ENERG...|      53067012412|\n",
      "|5YJSA1E45H| Thurston|   Olympia|   WA|      98512|      2017|    TESLA|    MODEL S| Battery Electric ...|                             Clean Alternative...|           210|        0|                  35|     152371775|POINT (-122.9131 ...|PUGET SOUND ENERG...|      53067011821|\n",
      "|5YJ3E1EB6J|     King|    Burien|   WA|      98166|      2018|    TESLA|    MODEL 3| Battery Electric ...|                             Clean Alternative...|           215|        0|                  34|     278247826|POINT (-122.34134...|CITY OF SEATTLE -...|      53033027500|\n",
      "|1N4BZ1CP3K|Snohomish| Snohomish|   WA|      98290|      2019|   NISSAN|       LEAF| Battery Electric ...|                             Clean Alternative...|           150|        0|                  39|     113148129|POINT (-122.09305...|PUGET SOUND ENERG...|      53061052203|\n",
      "|KM8K23AGXL|     King|   Seattle|   WA|      98125|      2020|  HYUNDAI|       KONA| Battery Electric ...|                             Clean Alternative...|           258|        0|                  46|     145686754|POINT (-122.30253...|CITY OF SEATTLE -...|      53033000101|\n",
      "|1N4AZ0CP2F|     King|  Bellevue|   WA|      98006|      2015|   NISSAN|       LEAF| Battery Electric ...|                             Clean Alternative...|            84|        0|                  41|     268997830|POINT (-122.12096...|PUGET SOUND ENERG...|      53033024800|\n",
      "|1N4AZ0CP6F|     King|  Kirkland|   WA|      98033|      2015|   NISSAN|       LEAF| Battery Electric ...|                             Clean Alternative...|            84|        0|                  48|     128319159|POINT (-122.2066 ...|PUGET SOUND ENERG...|      53033022501|\n",
      "|5YJYGDEE2M|     King|   Bothell|   WA|      98011|      2021|    TESLA|    MODEL Y| Battery Electric ...|                             Eligibility unkno...|             0|        0|                   1|     144130570|POINT (-122.20563...|PUGET SOUND ENERG...|      53033021804|\n",
      "|7JRBR0FL8K|     King|   Seattle|   WA|      98125|      2019|    VOLVO|        S60| Plug-in Hybrid El...|                             Not eligible due ...|            22|        0|                  46|     208712598|POINT (-122.30253...|CITY OF SEATTLE -...|      53033001202|\n",
      "|1G1RD6E45E|   Yakima|    Yakima|   WA|      98908|      2014|CHEVROLET|       VOLT| Plug-in Hybrid El...|                             Clean Alternative...|            38|        0|                  14|     142474272|POINT (-120.60199...|          PACIFICORP|      53077000903|\n",
      "|JTDKAMFP1M|   Kitsap| Bremerton|   WA|      98337|      2021|   TOYOTA|PRIUS PRIME| Plug-in Hybrid El...|                             Not eligible due ...|            25|        0|                  26|     156465963|POINT (-122.62749...|PUGET SOUND ENERG...|      53035080600|\n",
      "|7SAYGDEE7N|   Yakima|    Yakima|   WA|      98908|      2022|    TESLA|    MODEL Y| Battery Electric ...|                             Eligibility unkno...|             0|        0|                  14|     216648813|POINT (-120.60199...|          PACIFICORP|      53077002801|\n",
      "|1N4AZ1CP7K|     King|    Renton|   WA|      98055|      2019|   NISSAN|       LEAF| Battery Electric ...|                             Clean Alternative...|           150|        0|                  11|     226088971|POINT (-122.197 4...|PUGET SOUND ENERG...|      53033025805|\n",
      "|7SAXCBE61P|   Kitsap|Silverdale|   WA|      98383|      2023|    TESLA|    MODEL X| Battery Electric ...|                             Eligibility unkno...|             0|        0|                  23|     262321321|POINT (-122.69275...|PUGET SOUND ENERG...|      53035091205|\n",
      "|5YJ3E1EB7J|     King|      Kent|   WA|      98030|      2018|    TESLA|    MODEL 3| Battery Electric ...|                             Clean Alternative...|           215|        0|                  47|     207456623|POINT (-122.19975...|PUGET SOUND ENERG...|      53033029505|\n",
      "|1N4AZ0CP3D|     King|   Redmond|   WA|      98052|      2013|   NISSAN|       LEAF| Battery Electric ...|                             Clean Alternative...|            75|        0|                  45|     176767076|POINT (-122.13158...|PUGET SOUND ENERG...|      53033032323|\n",
      "+----------+---------+----------+-----+-----------+----------+---------+-----------+---------------------+-------------------------------------------------+--------------+---------+--------------------+--------------+--------------------+--------------------+-----------------+\n",
      "only showing top 20 rows\n",
      "\n"
     ]
    }
   ],
   "source": [
    "df.show()"
   ]
  },
  {
   "cell_type": "code",
   "execution_count": 18,
   "id": "a860b13e-1001-4f17-a43e-17cf44b5c7fd",
   "metadata": {},
   "outputs": [
    {
     "data": {
      "text/plain": [
       "StructType([StructField('VIN (1-10)', StringType(), True), StructField('County', StringType(), True), StructField('City', StringType(), True), StructField('State', StringType(), True), StructField('Postal Code', IntegerType(), True), StructField('Model Year', IntegerType(), True), StructField('Make', StringType(), True), StructField('Model', StringType(), True), StructField('Electric Vehicle Type', StringType(), True), StructField('Clean Alternative Fuel Vehicle (CAFV) Eligibility', StringType(), True), StructField('Electric Range', IntegerType(), True), StructField('Base MSRP', IntegerType(), True), StructField('Legislative District', IntegerType(), True), StructField('DOL Vehicle ID', IntegerType(), True), StructField('Vehicle Location', StringType(), True), StructField('Electric Utility', StringType(), True), StructField('2020 Census Tract', LongType(), True)])"
      ]
     },
     "execution_count": 18,
     "metadata": {},
     "output_type": "execute_result"
    }
   ],
   "source": [
    "df.schema"
   ]
  },
  {
   "cell_type": "code",
   "execution_count": 40,
   "id": "b85b1368-1ecd-4bdd-9940-e3883ade2829",
   "metadata": {},
   "outputs": [],
   "source": [
    "#raname all the columns as per choice general convention lower case an snake case\n",
    "rename_cols = {\n",
    "    'VIN (1-10)': 'vehical_number',\n",
    "    'Postal Code': 'postal_code',\n",
    "    'Electric Vehicle Type': 'vehical_type',\n",
    "    'Clean Alternative Fuel Vehicle (CAFV) Eligibility': 'cavf_eligibility',\n",
    "    'Electric Range': 'electric_range',\n",
    "    'Base MSRP': 'base_msrp',\n",
    "    'Legislative District': 'legislative_district',\n",
    "    'Vehicle Location': 'vehicle_location',\n",
    "    'Electric Utility': 'electric_utility',\n",
    "    '2020 Cencus Tract': 'cencus_tract',\n",
    "    'Model Year':'model_year'\n",
    "}\n",
    "\n",
    "\n",
    "for old_name, new_name in rename_cols.items():\n",
    "    df = df.withColumnRenamed(old_name, new_name)\n"
   ]
  },
  {
   "cell_type": "code",
   "execution_count": 41,
   "id": "d5f3cffe-9c7f-4a5d-9815-2a88d15e3cd4",
   "metadata": {},
   "outputs": [],
   "source": [
    "#Make all columns lower case\n",
    "for col in df.columns:\n",
    "    df = df.withColumnRenamed(col, col.lower())"
   ]
  },
  {
   "cell_type": "code",
   "execution_count": 42,
   "id": "79471759-7179-49da-942d-d130fc740e87",
   "metadata": {},
   "outputs": [
    {
     "name": "stdout",
     "output_type": "stream",
     "text": [
      "+--------------+---------+----------+-----+-----------+----------+---------+-----------+--------------------+--------------------+--------------+---------+--------------------+--------------+--------------------+--------------------+-----------------+\n",
      "|vehical_number|   county|      city|state|postal_code|model_year|     make|      model|        vehical_type|    cavf_eligibility|electric_range|base_msrp|legislative_district|dol vehicle id|    vehicle_location|    electric_utility|2020 census tract|\n",
      "+--------------+---------+----------+-----+-----------+----------+---------+-----------+--------------------+--------------------+--------------+---------+--------------------+--------------+--------------------+--------------------+-----------------+\n",
      "|    5YJ3E1EB6K|     King|   Seattle|   WA|      98178|      2019|    TESLA|    MODEL 3|Battery Electric ...|Clean Alternative...|           220|        0|                  37|     101250425|POINT (-122.23825...|CITY OF SEATTLE -...|      53033011902|\n",
      "|    5YJYGAEE5M|   Yakima|     Selah|   WA|      98942|      2021|    TESLA|    MODEL Y|Battery Electric ...|Eligibility unkno...|             0|        0|                  15|     224162858|POINT (-120.53145...|          PACIFICORP|      53077003100|\n",
      "|    5YJSA1E65N|   Yakima|   Granger|   WA|      98932|      2022|    TESLA|    MODEL S|Battery Electric ...|Eligibility unkno...|             0|        0|                  15|     187279214|POINT (-120.1871 ...|          PACIFICORP|      53077002104|\n",
      "|    5YJ3E1EBXN|     King|  Bellevue|   WA|      98004|      2022|    TESLA|    MODEL 3|Battery Electric ...|Eligibility unkno...|             0|        0|                  41|     219428079|POINT (-122.1872 ...|PUGET SOUND ENERG...|      53033023902|\n",
      "|    JM3KKEHA8S| Thurston|      Yelm|   WA|      98597|      2025|    MAZDA|      CX-90|Plug-in Hybrid El...|Not eligible due ...|            26|        0|                   2|     277791643|POINT (-122.60735...|PUGET SOUND ENERG...|      53067012412|\n",
      "|    5YJSA1E45H| Thurston|   Olympia|   WA|      98512|      2017|    TESLA|    MODEL S|Battery Electric ...|Clean Alternative...|           210|        0|                  35|     152371775|POINT (-122.9131 ...|PUGET SOUND ENERG...|      53067011821|\n",
      "|    5YJ3E1EB6J|     King|    Burien|   WA|      98166|      2018|    TESLA|    MODEL 3|Battery Electric ...|Clean Alternative...|           215|        0|                  34|     278247826|POINT (-122.34134...|CITY OF SEATTLE -...|      53033027500|\n",
      "|    1N4BZ1CP3K|Snohomish| Snohomish|   WA|      98290|      2019|   NISSAN|       LEAF|Battery Electric ...|Clean Alternative...|           150|        0|                  39|     113148129|POINT (-122.09305...|PUGET SOUND ENERG...|      53061052203|\n",
      "|    KM8K23AGXL|     King|   Seattle|   WA|      98125|      2020|  HYUNDAI|       KONA|Battery Electric ...|Clean Alternative...|           258|        0|                  46|     145686754|POINT (-122.30253...|CITY OF SEATTLE -...|      53033000101|\n",
      "|    1N4AZ0CP2F|     King|  Bellevue|   WA|      98006|      2015|   NISSAN|       LEAF|Battery Electric ...|Clean Alternative...|            84|        0|                  41|     268997830|POINT (-122.12096...|PUGET SOUND ENERG...|      53033024800|\n",
      "|    1N4AZ0CP6F|     King|  Kirkland|   WA|      98033|      2015|   NISSAN|       LEAF|Battery Electric ...|Clean Alternative...|            84|        0|                  48|     128319159|POINT (-122.2066 ...|PUGET SOUND ENERG...|      53033022501|\n",
      "|    5YJYGDEE2M|     King|   Bothell|   WA|      98011|      2021|    TESLA|    MODEL Y|Battery Electric ...|Eligibility unkno...|             0|        0|                   1|     144130570|POINT (-122.20563...|PUGET SOUND ENERG...|      53033021804|\n",
      "|    7JRBR0FL8K|     King|   Seattle|   WA|      98125|      2019|    VOLVO|        S60|Plug-in Hybrid El...|Not eligible due ...|            22|        0|                  46|     208712598|POINT (-122.30253...|CITY OF SEATTLE -...|      53033001202|\n",
      "|    1G1RD6E45E|   Yakima|    Yakima|   WA|      98908|      2014|CHEVROLET|       VOLT|Plug-in Hybrid El...|Clean Alternative...|            38|        0|                  14|     142474272|POINT (-120.60199...|          PACIFICORP|      53077000903|\n",
      "|    JTDKAMFP1M|   Kitsap| Bremerton|   WA|      98337|      2021|   TOYOTA|PRIUS PRIME|Plug-in Hybrid El...|Not eligible due ...|            25|        0|                  26|     156465963|POINT (-122.62749...|PUGET SOUND ENERG...|      53035080600|\n",
      "|    7SAYGDEE7N|   Yakima|    Yakima|   WA|      98908|      2022|    TESLA|    MODEL Y|Battery Electric ...|Eligibility unkno...|             0|        0|                  14|     216648813|POINT (-120.60199...|          PACIFICORP|      53077002801|\n",
      "|    1N4AZ1CP7K|     King|    Renton|   WA|      98055|      2019|   NISSAN|       LEAF|Battery Electric ...|Clean Alternative...|           150|        0|                  11|     226088971|POINT (-122.197 4...|PUGET SOUND ENERG...|      53033025805|\n",
      "|    7SAXCBE61P|   Kitsap|Silverdale|   WA|      98383|      2023|    TESLA|    MODEL X|Battery Electric ...|Eligibility unkno...|             0|        0|                  23|     262321321|POINT (-122.69275...|PUGET SOUND ENERG...|      53035091205|\n",
      "|    5YJ3E1EB7J|     King|      Kent|   WA|      98030|      2018|    TESLA|    MODEL 3|Battery Electric ...|Clean Alternative...|           215|        0|                  47|     207456623|POINT (-122.19975...|PUGET SOUND ENERG...|      53033029505|\n",
      "|    1N4AZ0CP3D|     King|   Redmond|   WA|      98052|      2013|   NISSAN|       LEAF|Battery Electric ...|Clean Alternative...|            75|        0|                  45|     176767076|POINT (-122.13158...|PUGET SOUND ENERG...|      53033032323|\n",
      "+--------------+---------+----------+-----+-----------+----------+---------+-----------+--------------------+--------------------+--------------+---------+--------------------+--------------+--------------------+--------------------+-----------------+\n",
      "only showing top 20 rows\n",
      "\n"
     ]
    }
   ],
   "source": [
    "df.show()"
   ]
  },
  {
   "cell_type": "code",
   "execution_count": 35,
   "id": "e696b43b-fc71-4f29-a528-fd2189bb7821",
   "metadata": {},
   "outputs": [
    {
     "name": "stdout",
     "output_type": "stream",
     "text": [
      "+--------------+--------------+--------------+-----+-----------+----------+----------+--------------+--------------------+--------------------+--------------+---------+--------------------+--------------+--------------------+--------------------+-----------------+\n",
      "|vehical_number|        county|          city|state|postal_code|model year|      make|         model|        vehical_type|    cavf_eligibility|electric_range|base_msrp|legislative_district|dol vehicle id|    vehicle_location|    electric_utility|2020 census tract|\n",
      "+--------------+--------------+--------------+-----+-----------+----------+----------+--------------+--------------------+--------------------+--------------+---------+--------------------+--------------+--------------------+--------------------+-----------------+\n",
      "|    WBAJA9C50K|          NULL|          NULL|   AE|       NULL|      2019|       BMW|          530E|Plug-in Hybrid El...|Not eligible due ...|            16|    53400|                NULL|     244582593|                NULL|                NULL|             NULL|\n",
      "|    WA1LAAGE0K|    Montgomery|      Bethesda|   MD|      20817|      2019|      AUDI|        E-TRON|Battery Electric ...|Clean Alternative...|           204|        0|                NULL|     168802406|POINT (-77.1209 3...|NON WASHINGTON ST...|      24031706012|\n",
      "|    1C4RJXU69R|     Talladega|     Talladega|   AL|      35160|      2024|      JEEP|      WRANGLER|Plug-in Hybrid El...|Not eligible due ...|            21|        0|                NULL|     278138563|POINT (-86.10242 ...|NON WASHINGTON ST...|       1121010302|\n",
      "|    1FADP3R48H|          Kern|       Edwards|   CA|      93523|      2017|      FORD|         FOCUS|Battery Electric ...|Clean Alternative...|           100|        0|                NULL|     218307183|POINT (-117.93907...|NON WASHINGTON ST...|       6029005700|\n",
      "|    WB523CF01N|       Alameda|       Fremont|   CA|      94538|      2022|       BMW|            IX|Battery Electric ...|Eligibility unkno...|             0|        0|                NULL|     205813730|POINT (-121.9833 ...|NON WASHINGTON ST...|       6001442502|\n",
      "|    KNDCD3LD6N|         Marin|    San Rafael|   CA|      94901|      2022|       KIA|          NIRO|Plug-in Hybrid El...|Not eligible due ...|            26|        0|                NULL|     181521700|POINT (-122.53289...|NON WASHINGTON ST...|       6041111002|\n",
      "|    KMUKEDTB9P|        Orange|   Midway City|   CA|      92655|      2023|   GENESIS|          GV60|Battery Electric ...|Eligibility unkno...|             0|        0|                NULL|     220657608|POINT (-117.98647...|NON WASHINGTON ST...|       6059099702|\n",
      "|    5YJXCDE23G|        Orange| Laguna Niguel|   CA|      92677|      2016|     TESLA|       MODEL X|Battery Electric ...|Clean Alternative...|           200|        0|                NULL|     208563428|POINT (-117.70822...|NON WASHINGTON ST...|       6059042335|\n",
      "|    JTMAB3FV4M|     San Diego|     Oceanside|   CA|      92057|      2021|    TOYOTA|    RAV4 PRIME|Plug-in Hybrid El...|Clean Alternative...|            42|        0|                NULL|     207092126|POINT (-117.30761...|NON WASHINGTON ST...|       6073019303|\n",
      "|    2C4RC1L7XN|          Cook|       Chicago|   IL|      60607|      2022|  CHRYSLER|      PACIFICA|Plug-in Hybrid El...|Clean Alternative...|            32|        0|                NULL|     213704480|POINT (-87.65335 ...|NON WASHINGTON ST...|      17031832900|\n",
      "|    7PDSGABA0P|       Brevard|     Melbourne|   FL|      32904|      2023|    RIVIAN|           R1S|Battery Electric ...|Eligibility unkno...|             0|        0|                NULL|     258810492|POINT (-80.684 28...|NON WASHINGTON ST...|      12009071354|\n",
      "|    1V2CMPE89P|       Fairfax|         Burke|   VA|      22015|      2023|VOLKSWAGEN|          ID.4|Battery Electric ...|Eligibility unkno...|             0|        0|                NULL|     230157889|POINT (-77.27191 ...|NON WASHINGTON ST...|      51059432402|\n",
      "|    3FMTK3RM9P|Virginia Beach|Virginia Beach|   VA|      23455|      2023|      FORD|MUSTANG MACH-E|Battery Electric ...|Eligibility unkno...|             0|        0|                NULL|     245870558|POINT (-76.13548 ...|NON WASHINGTON ST...|      51810040404|\n",
      "|    5YJ3E1EA6M|   Santa Clara|      San Jose|   CA|      95116|      2021|     TESLA|       MODEL 3|Battery Electric ...|Eligibility unkno...|             0|        0|                NULL|     270765834|POINT (-121.84808...|NON WASHINGTON ST...|       6085503711|\n",
      "|    KMHCX5LD5N|Prince William|      Manassas|   VA|      20111|      2022|   HYUNDAI|         IONIQ|Plug-in Hybrid El...|Not eligible due ...|            29|        0|                NULL|     195802141|POINT (-77.44985 ...|NON WASHINGTON ST...|      51153901232|\n",
      "|    5YJ3E1EB8K|        Placer|     Roseville|   CA|      95661|      2019|     TESLA|       MODEL 3|Battery Electric ...|Clean Alternative...|           220|        0|                NULL|     477326650|POINT (-121.24072...|NON WASHINGTON ST...|       6061020717|\n",
      "|    5YJSA1E65N|         Geary| Junction City|   KS|      66441|      2022|     TESLA|       MODEL S|Battery Electric ...|Eligibility unkno...|             0|        0|                NULL|     259233173|POINT (-96.83046 ...|NON WASHINGTON ST...|      20061000801|\n",
      "|    7FCTGBAA5R|          Kent|        Greene|   RI|       2827|      2024|    RIVIAN|           R1T|Battery Electric ...|Eligibility unkno...|             0|        0|                NULL|     271811963|POINT (-71.74609 ...|NON WASHINGTON ST...|      44003020702|\n",
      "|    5YJSA1S15E|      Monterey|       Seaside|   CA|      93955|      2014|     TESLA|       MODEL S|Battery Electric ...|Clean Alternative...|           208|    69900|                NULL|     476675475|POINT (-121.8535 ...|NON WASHINGTON ST...|       6053014109|\n",
      "|    7SAYGDEF0P|     Frederick|     Frederick|   MD|      21701|      2023|     TESLA|       MODEL Y|Battery Electric ...|Eligibility unkno...|             0|        0|                NULL|     256288742|POINT (-77.41203 ...|NON WASHINGTON ST...|      24021750200|\n",
      "+--------------+--------------+--------------+-----+-----------+----------+----------+--------------+--------------------+--------------------+--------------+---------+--------------------+--------------+--------------------+--------------------+-----------------+\n",
      "only showing top 20 rows\n",
      "\n"
     ]
    }
   ],
   "source": [
    "from pyspark.sql.functions import col\n",
    "df_state_not_wa = df.filter(col('state')!=\"WA\")\n",
    "df_state_not_wa.show()\n",
    "# So data of multiple states exists"
   ]
  },
  {
   "cell_type": "code",
   "execution_count": 43,
   "id": "0e63f361-c4c9-47e0-ac63-cea6c9bd3955",
   "metadata": {},
   "outputs": [
    {
     "name": "stdout",
     "output_type": "stream",
     "text": [
      "+--------------+------+----+-----+-----------+----------+----+-----+------------+----------------+--------------+---------+--------------------+--------------+----------------+----------------+-----------------+\n",
      "|vehical_number|county|city|state|postal_code|model_year|make|model|vehical_type|cavf_eligibility|electric_range|base_msrp|legislative_district|dol vehicle id|vehicle_location|electric_utility|2020 census tract|\n",
      "+--------------+------+----+-----+-----------+----------+----+-----+------------+----------------+--------------+---------+--------------------+--------------+----------------+----------------+-----------------+\n",
      "|             0|     4|   4|    0|          4|         0|   0|    0|           0|               0|            17|       17|                 540|             0|              11|               4|                4|\n",
      "+--------------+------+----+-----+-----------+----------+----+-----+------------+----------------+--------------+---------+--------------------+--------------+----------------+----------------+-----------------+\n",
      "\n"
     ]
    }
   ],
   "source": [
    "## See which column has null values\n",
    "from pyspark.sql.functions import col, count, when\n",
    "\n",
    "null_counts = df.select([\n",
    "    count(when(col(c).isNull(), c)).alias(c) for c in df.columns\n",
    "])\n",
    "\n",
    "null_counts.show()"
   ]
  },
  {
   "cell_type": "code",
   "execution_count": 46,
   "id": "9ce608e4-4883-4b7f-92d1-2e46cdb3a507",
   "metadata": {},
   "outputs": [],
   "source": [
    "#Handling Null values \n",
    "# county - Unknown\n",
    "# city - Unknown\n",
    "# postal_code = 0\n",
    "df_filled = df.fillna({\n",
    "    'city':'Unknown',\n",
    "    'county':'Unknown',\n",
    "    'postal_code': 0,\n",
    "    'electric_range': 0,\n",
    "    'electric_utility': 'Unknown',\n",
    "    'model_year': 0,\n",
    "    'vehicle_location': 'Unknown',\n",
    "    'legislative_district':0,\n",
    "})"
   ]
  },
  {
   "cell_type": "code",
   "execution_count": 53,
   "id": "669f065f-061b-4e70-ad36-f93fe1f4140f",
   "metadata": {},
   "outputs": [],
   "source": [
    "#Dropping unnecessary column\n",
    "new_df = df_filled.drop('2020 census tract', 'dol vehicle id')"
   ]
  },
  {
   "cell_type": "code",
   "execution_count": 54,
   "id": "a020f26a-6829-431c-bb89-9b9ab9177272",
   "metadata": {},
   "outputs": [
    {
     "name": "stdout",
     "output_type": "stream",
     "text": [
      "+--------------+---------+----------+-----+-----------+----------+---------+-----------+--------------------+--------------------+--------------+---------+--------------------+--------------------+--------------------+\n",
      "|vehical_number|   county|      city|state|postal_code|model_year|     make|      model|        vehical_type|    cavf_eligibility|electric_range|base_msrp|legislative_district|    vehicle_location|    electric_utility|\n",
      "+--------------+---------+----------+-----+-----------+----------+---------+-----------+--------------------+--------------------+--------------+---------+--------------------+--------------------+--------------------+\n",
      "|    5YJ3E1EB6K|     King|   Seattle|   WA|      98178|      2019|    TESLA|    MODEL 3|Battery Electric ...|Clean Alternative...|           220|        0|                  37|POINT (-122.23825...|CITY OF SEATTLE -...|\n",
      "|    5YJYGAEE5M|   Yakima|     Selah|   WA|      98942|      2021|    TESLA|    MODEL Y|Battery Electric ...|Eligibility unkno...|             0|        0|                  15|POINT (-120.53145...|          PACIFICORP|\n",
      "|    5YJSA1E65N|   Yakima|   Granger|   WA|      98932|      2022|    TESLA|    MODEL S|Battery Electric ...|Eligibility unkno...|             0|        0|                  15|POINT (-120.1871 ...|          PACIFICORP|\n",
      "|    5YJ3E1EBXN|     King|  Bellevue|   WA|      98004|      2022|    TESLA|    MODEL 3|Battery Electric ...|Eligibility unkno...|             0|        0|                  41|POINT (-122.1872 ...|PUGET SOUND ENERG...|\n",
      "|    JM3KKEHA8S| Thurston|      Yelm|   WA|      98597|      2025|    MAZDA|      CX-90|Plug-in Hybrid El...|Not eligible due ...|            26|        0|                   2|POINT (-122.60735...|PUGET SOUND ENERG...|\n",
      "|    5YJSA1E45H| Thurston|   Olympia|   WA|      98512|      2017|    TESLA|    MODEL S|Battery Electric ...|Clean Alternative...|           210|        0|                  35|POINT (-122.9131 ...|PUGET SOUND ENERG...|\n",
      "|    5YJ3E1EB6J|     King|    Burien|   WA|      98166|      2018|    TESLA|    MODEL 3|Battery Electric ...|Clean Alternative...|           215|        0|                  34|POINT (-122.34134...|CITY OF SEATTLE -...|\n",
      "|    1N4BZ1CP3K|Snohomish| Snohomish|   WA|      98290|      2019|   NISSAN|       LEAF|Battery Electric ...|Clean Alternative...|           150|        0|                  39|POINT (-122.09305...|PUGET SOUND ENERG...|\n",
      "|    KM8K23AGXL|     King|   Seattle|   WA|      98125|      2020|  HYUNDAI|       KONA|Battery Electric ...|Clean Alternative...|           258|        0|                  46|POINT (-122.30253...|CITY OF SEATTLE -...|\n",
      "|    1N4AZ0CP2F|     King|  Bellevue|   WA|      98006|      2015|   NISSAN|       LEAF|Battery Electric ...|Clean Alternative...|            84|        0|                  41|POINT (-122.12096...|PUGET SOUND ENERG...|\n",
      "|    1N4AZ0CP6F|     King|  Kirkland|   WA|      98033|      2015|   NISSAN|       LEAF|Battery Electric ...|Clean Alternative...|            84|        0|                  48|POINT (-122.2066 ...|PUGET SOUND ENERG...|\n",
      "|    5YJYGDEE2M|     King|   Bothell|   WA|      98011|      2021|    TESLA|    MODEL Y|Battery Electric ...|Eligibility unkno...|             0|        0|                   1|POINT (-122.20563...|PUGET SOUND ENERG...|\n",
      "|    7JRBR0FL8K|     King|   Seattle|   WA|      98125|      2019|    VOLVO|        S60|Plug-in Hybrid El...|Not eligible due ...|            22|        0|                  46|POINT (-122.30253...|CITY OF SEATTLE -...|\n",
      "|    1G1RD6E45E|   Yakima|    Yakima|   WA|      98908|      2014|CHEVROLET|       VOLT|Plug-in Hybrid El...|Clean Alternative...|            38|        0|                  14|POINT (-120.60199...|          PACIFICORP|\n",
      "|    JTDKAMFP1M|   Kitsap| Bremerton|   WA|      98337|      2021|   TOYOTA|PRIUS PRIME|Plug-in Hybrid El...|Not eligible due ...|            25|        0|                  26|POINT (-122.62749...|PUGET SOUND ENERG...|\n",
      "|    7SAYGDEE7N|   Yakima|    Yakima|   WA|      98908|      2022|    TESLA|    MODEL Y|Battery Electric ...|Eligibility unkno...|             0|        0|                  14|POINT (-120.60199...|          PACIFICORP|\n",
      "|    1N4AZ1CP7K|     King|    Renton|   WA|      98055|      2019|   NISSAN|       LEAF|Battery Electric ...|Clean Alternative...|           150|        0|                  11|POINT (-122.197 4...|PUGET SOUND ENERG...|\n",
      "|    7SAXCBE61P|   Kitsap|Silverdale|   WA|      98383|      2023|    TESLA|    MODEL X|Battery Electric ...|Eligibility unkno...|             0|        0|                  23|POINT (-122.69275...|PUGET SOUND ENERG...|\n",
      "|    5YJ3E1EB7J|     King|      Kent|   WA|      98030|      2018|    TESLA|    MODEL 3|Battery Electric ...|Clean Alternative...|           215|        0|                  47|POINT (-122.19975...|PUGET SOUND ENERG...|\n",
      "|    1N4AZ0CP3D|     King|   Redmond|   WA|      98052|      2013|   NISSAN|       LEAF|Battery Electric ...|Clean Alternative...|            75|        0|                  45|POINT (-122.13158...|PUGET SOUND ENERG...|\n",
      "+--------------+---------+----------+-----+-----------+----------+---------+-----------+--------------------+--------------------+--------------+---------+--------------------+--------------------+--------------------+\n",
      "only showing top 20 rows\n",
      "\n"
     ]
    }
   ],
   "source": [
    "new_df.show()"
   ]
  },
  {
   "cell_type": "code",
   "execution_count": 64,
   "id": "ef4cf6e6-603f-4ced-a46b-28acb05fb476",
   "metadata": {},
   "outputs": [],
   "source": [
    "#Make lat and lon columns \n",
    "from pyspark.sql.functions import col\n",
    "new_df = new_df.withColumn('longitude', regexp_extract(col(\"vehicle_location\"), r'POINT \\((-?\\d+\\.\\d+)', 1).cast(DoubleType()))\n",
    "new_df = new_df.withColumn(\"latitude\", regexp_extract(col(\"vehicle_location\"), r'POINT \\(-?\\d+\\.\\d+ (-?\\d+\\.\\d+)\\)', 1).cast(DoubleType()))"
   ]
  },
  {
   "cell_type": "code",
   "execution_count": 68,
   "id": "0532cc9d-91cd-4290-871a-7a6b8e67c127",
   "metadata": {},
   "outputs": [],
   "source": [
    "new_df = new_df.drop('vehicle_location')"
   ]
  },
  {
   "cell_type": "code",
   "execution_count": 69,
   "id": "05a9f355-0283-46a2-9eb7-9a122bca8a60",
   "metadata": {},
   "outputs": [
    {
     "name": "stdout",
     "output_type": "stream",
     "text": [
      "+--------------+---------+----------+-----+-----------+----------+---------+-----------+--------------------+--------------------+--------------+---------+--------------------+--------------------+--------+----------+\n",
      "|vehical_number|   county|      city|state|postal_code|model_year|     make|      model|        vehical_type|    cavf_eligibility|electric_range|base_msrp|legislative_district|    electric_utility|latitude| longitude|\n",
      "+--------------+---------+----------+-----+-----------+----------+---------+-----------+--------------------+--------------------+--------------+---------+--------------------+--------------------+--------+----------+\n",
      "|    5YJ3E1EB6K|     King|   Seattle|   WA|      98178|      2019|    TESLA|    MODEL 3|Battery Electric ...|Clean Alternative...|           220|        0|                  37|CITY OF SEATTLE -...|47.49461|-122.23825|\n",
      "|    5YJYGAEE5M|   Yakima|     Selah|   WA|      98942|      2021|    TESLA|    MODEL Y|Battery Electric ...|Eligibility unkno...|             0|        0|                  15|          PACIFICORP|46.65405|-120.53145|\n",
      "|    5YJSA1E65N|   Yakima|   Granger|   WA|      98932|      2022|    TESLA|    MODEL S|Battery Electric ...|Eligibility unkno...|             0|        0|                  15|          PACIFICORP|46.33949| -120.1871|\n",
      "|    5YJ3E1EBXN|     King|  Bellevue|   WA|      98004|      2022|    TESLA|    MODEL 3|Battery Electric ...|Eligibility unkno...|             0|        0|                  41|PUGET SOUND ENERG...|47.61001| -122.1872|\n",
      "|    JM3KKEHA8S| Thurston|      Yelm|   WA|      98597|      2025|    MAZDA|      CX-90|Plug-in Hybrid El...|Not eligible due ...|            26|        0|                   2|PUGET SOUND ENERG...|46.94239|-122.60735|\n",
      "|    5YJSA1E45H| Thurston|   Olympia|   WA|      98512|      2017|    TESLA|    MODEL S|Battery Electric ...|Clean Alternative...|           210|        0|                  35|PUGET SOUND ENERG...|47.01359| -122.9131|\n",
      "|    5YJ3E1EB6J|     King|    Burien|   WA|      98166|      2018|    TESLA|    MODEL 3|Battery Electric ...|Clean Alternative...|           215|        0|                  34|CITY OF SEATTLE -...|47.46593|-122.34134|\n",
      "|    1N4BZ1CP3K|Snohomish| Snohomish|   WA|      98290|      2019|   NISSAN|       LEAF|Battery Electric ...|Clean Alternative...|           150|        0|                  39|PUGET SOUND ENERG...|47.91265|-122.09305|\n",
      "|    KM8K23AGXL|     King|   Seattle|   WA|      98125|      2020|  HYUNDAI|       KONA|Battery Electric ...|Clean Alternative...|           258|        0|                  46|CITY OF SEATTLE -...|47.72656|-122.30253|\n",
      "|    1N4AZ0CP2F|     King|  Bellevue|   WA|      98006|      2015|   NISSAN|       LEAF|Battery Electric ...|Clean Alternative...|            84|        0|                  41|PUGET SOUND ENERG...|47.55584|-122.12096|\n",
      "|    1N4AZ0CP6F|     King|  Kirkland|   WA|      98033|      2015|   NISSAN|       LEAF|Battery Electric ...|Clean Alternative...|            84|        0|                  48|PUGET SOUND ENERG...|47.67887| -122.2066|\n",
      "|    5YJYGDEE2M|     King|   Bothell|   WA|      98011|      2021|    TESLA|    MODEL Y|Battery Electric ...|Eligibility unkno...|             0|        0|                   1|PUGET SOUND ENERG...|47.76144|-122.20563|\n",
      "|    7JRBR0FL8K|     King|   Seattle|   WA|      98125|      2019|    VOLVO|        S60|Plug-in Hybrid El...|Not eligible due ...|            22|        0|                  46|CITY OF SEATTLE -...|47.72656|-122.30253|\n",
      "|    1G1RD6E45E|   Yakima|    Yakima|   WA|      98908|      2014|CHEVROLET|       VOLT|Plug-in Hybrid El...|Clean Alternative...|            38|        0|                  14|          PACIFICORP|46.59817|-120.60199|\n",
      "|    JTDKAMFP1M|   Kitsap| Bremerton|   WA|      98337|      2021|   TOYOTA|PRIUS PRIME|Plug-in Hybrid El...|Not eligible due ...|            25|        0|                  26|PUGET SOUND ENERG...|  47.565|-122.62749|\n",
      "|    7SAYGDEE7N|   Yakima|    Yakima|   WA|      98908|      2022|    TESLA|    MODEL Y|Battery Electric ...|Eligibility unkno...|             0|        0|                  14|          PACIFICORP|46.59817|-120.60199|\n",
      "|    1N4AZ1CP7K|     King|    Renton|   WA|      98055|      2019|   NISSAN|       LEAF|Battery Electric ...|Clean Alternative...|           150|        0|                  11|PUGET SOUND ENERG...|47.43876|  -122.197|\n",
      "|    7SAXCBE61P|   Kitsap|Silverdale|   WA|      98383|      2023|    TESLA|    MODEL X|Battery Electric ...|Eligibility unkno...|             0|        0|                  23|PUGET SOUND ENERG...|47.65171|-122.69275|\n",
      "|    5YJ3E1EB7J|     King|      Kent|   WA|      98030|      2018|    TESLA|    MODEL 3|Battery Electric ...|Clean Alternative...|           215|        0|                  47|PUGET SOUND ENERG...|47.37483|-122.19975|\n",
      "|    1N4AZ0CP3D|     King|   Redmond|   WA|      98052|      2013|   NISSAN|       LEAF|Battery Electric ...|Clean Alternative...|            75|        0|                  45|PUGET SOUND ENERG...|47.67858|-122.13158|\n",
      "+--------------+---------+----------+-----+-----------+----------+---------+-----------+--------------------+--------------------+--------------+---------+--------------------+--------------------+--------+----------+\n",
      "only showing top 20 rows\n",
      "\n"
     ]
    }
   ],
   "source": [
    "new_df.show()"
   ]
  },
  {
   "cell_type": "code",
   "execution_count": 76,
   "id": "dffc9c9b-97c7-4c02-98d5-1421d9fb4e92",
   "metadata": {},
   "outputs": [],
   "source": [
    "new_df = new_df.fillna({\n",
    "    'latitude':0,\n",
    "    'longitude':0,\n",
    "    'base_msrp':0\n",
    "})"
   ]
  },
  {
   "cell_type": "code",
   "execution_count": 74,
   "id": "3fe03cdc-b4e0-4c48-98b8-e491239f17c1",
   "metadata": {},
   "outputs": [
    {
     "name": "stdout",
     "output_type": "stream",
     "text": [
      "+--------------+---------+----------+-----+-----------+----------+---------+-----------+--------------------+--------------------+--------------+---------+--------------------+--------------------+--------+----------+\n",
      "|vehical_number|   county|      city|state|postal_code|model_year|     make|      model|        vehical_type|    cavf_eligibility|electric_range|base_msrp|legislative_district|    electric_utility|latitude| longitude|\n",
      "+--------------+---------+----------+-----+-----------+----------+---------+-----------+--------------------+--------------------+--------------+---------+--------------------+--------------------+--------+----------+\n",
      "|    5YJ3E1EB6K|     King|   Seattle|   WA|      98178|      2019|    TESLA|    MODEL 3|Battery Electric ...|Clean Alternative...|           220|        0|                  37|CITY OF SEATTLE -...|47.49461|-122.23825|\n",
      "|    5YJYGAEE5M|   Yakima|     Selah|   WA|      98942|      2021|    TESLA|    MODEL Y|Battery Electric ...|Eligibility unkno...|             0|        0|                  15|          PACIFICORP|46.65405|-120.53145|\n",
      "|    5YJSA1E65N|   Yakima|   Granger|   WA|      98932|      2022|    TESLA|    MODEL S|Battery Electric ...|Eligibility unkno...|             0|        0|                  15|          PACIFICORP|46.33949| -120.1871|\n",
      "|    5YJ3E1EBXN|     King|  Bellevue|   WA|      98004|      2022|    TESLA|    MODEL 3|Battery Electric ...|Eligibility unkno...|             0|        0|                  41|PUGET SOUND ENERG...|47.61001| -122.1872|\n",
      "|    JM3KKEHA8S| Thurston|      Yelm|   WA|      98597|      2025|    MAZDA|      CX-90|Plug-in Hybrid El...|Not eligible due ...|            26|        0|                   2|PUGET SOUND ENERG...|46.94239|-122.60735|\n",
      "|    5YJSA1E45H| Thurston|   Olympia|   WA|      98512|      2017|    TESLA|    MODEL S|Battery Electric ...|Clean Alternative...|           210|        0|                  35|PUGET SOUND ENERG...|47.01359| -122.9131|\n",
      "|    5YJ3E1EB6J|     King|    Burien|   WA|      98166|      2018|    TESLA|    MODEL 3|Battery Electric ...|Clean Alternative...|           215|        0|                  34|CITY OF SEATTLE -...|47.46593|-122.34134|\n",
      "|    1N4BZ1CP3K|Snohomish| Snohomish|   WA|      98290|      2019|   NISSAN|       LEAF|Battery Electric ...|Clean Alternative...|           150|        0|                  39|PUGET SOUND ENERG...|47.91265|-122.09305|\n",
      "|    KM8K23AGXL|     King|   Seattle|   WA|      98125|      2020|  HYUNDAI|       KONA|Battery Electric ...|Clean Alternative...|           258|        0|                  46|CITY OF SEATTLE -...|47.72656|-122.30253|\n",
      "|    1N4AZ0CP2F|     King|  Bellevue|   WA|      98006|      2015|   NISSAN|       LEAF|Battery Electric ...|Clean Alternative...|            84|        0|                  41|PUGET SOUND ENERG...|47.55584|-122.12096|\n",
      "|    1N4AZ0CP6F|     King|  Kirkland|   WA|      98033|      2015|   NISSAN|       LEAF|Battery Electric ...|Clean Alternative...|            84|        0|                  48|PUGET SOUND ENERG...|47.67887| -122.2066|\n",
      "|    5YJYGDEE2M|     King|   Bothell|   WA|      98011|      2021|    TESLA|    MODEL Y|Battery Electric ...|Eligibility unkno...|             0|        0|                   1|PUGET SOUND ENERG...|47.76144|-122.20563|\n",
      "|    7JRBR0FL8K|     King|   Seattle|   WA|      98125|      2019|    VOLVO|        S60|Plug-in Hybrid El...|Not eligible due ...|            22|        0|                  46|CITY OF SEATTLE -...|47.72656|-122.30253|\n",
      "|    1G1RD6E45E|   Yakima|    Yakima|   WA|      98908|      2014|CHEVROLET|       VOLT|Plug-in Hybrid El...|Clean Alternative...|            38|        0|                  14|          PACIFICORP|46.59817|-120.60199|\n",
      "|    JTDKAMFP1M|   Kitsap| Bremerton|   WA|      98337|      2021|   TOYOTA|PRIUS PRIME|Plug-in Hybrid El...|Not eligible due ...|            25|        0|                  26|PUGET SOUND ENERG...|  47.565|-122.62749|\n",
      "|    7SAYGDEE7N|   Yakima|    Yakima|   WA|      98908|      2022|    TESLA|    MODEL Y|Battery Electric ...|Eligibility unkno...|             0|        0|                  14|          PACIFICORP|46.59817|-120.60199|\n",
      "|    1N4AZ1CP7K|     King|    Renton|   WA|      98055|      2019|   NISSAN|       LEAF|Battery Electric ...|Clean Alternative...|           150|        0|                  11|PUGET SOUND ENERG...|47.43876|  -122.197|\n",
      "|    7SAXCBE61P|   Kitsap|Silverdale|   WA|      98383|      2023|    TESLA|    MODEL X|Battery Electric ...|Eligibility unkno...|             0|        0|                  23|PUGET SOUND ENERG...|47.65171|-122.69275|\n",
      "|    5YJ3E1EB7J|     King|      Kent|   WA|      98030|      2018|    TESLA|    MODEL 3|Battery Electric ...|Clean Alternative...|           215|        0|                  47|PUGET SOUND ENERG...|47.37483|-122.19975|\n",
      "|    1N4AZ0CP3D|     King|   Redmond|   WA|      98052|      2013|   NISSAN|       LEAF|Battery Electric ...|Clean Alternative...|            75|        0|                  45|PUGET SOUND ENERG...|47.67858|-122.13158|\n",
      "+--------------+---------+----------+-----+-----------+----------+---------+-----------+--------------------+--------------------+--------------+---------+--------------------+--------------------+--------+----------+\n",
      "only showing top 20 rows\n",
      "\n"
     ]
    }
   ],
   "source": [
    "new_df.show()"
   ]
  },
  {
   "cell_type": "code",
   "execution_count": 79,
   "id": "6df88077-5a8e-4673-baa8-0618a1576623",
   "metadata": {},
   "outputs": [
    {
     "data": {
      "text/plain": [
       "StructType([StructField('vehical_number', StringType(), True), StructField('county', StringType(), False), StructField('city', StringType(), False), StructField('state', StringType(), True), StructField('postal_code', IntegerType(), False), StructField('model_year', IntegerType(), False), StructField('make', StringType(), True), StructField('model', StringType(), True), StructField('vehical_type', StringType(), True), StructField('cavf_eligibility', StringType(), True), StructField('electric_range', IntegerType(), False), StructField('base_msrp', IntegerType(), False), StructField('legislative_district', IntegerType(), False), StructField('electric_utility', StringType(), False), StructField('latitude', DoubleType(), False), StructField('longitude', DoubleType(), False)])"
      ]
     },
     "execution_count": 79,
     "metadata": {},
     "output_type": "execute_result"
    }
   ],
   "source": [
    "new_df.schema"
   ]
  },
  {
   "cell_type": "code",
   "execution_count": 83,
   "id": "2ccc3850-edb4-4913-87d0-ede7867611af",
   "metadata": {},
   "outputs": [],
   "source": [
    "from pyspark.sql.functions import current_timestamp\n",
    "\n",
    "new_df = new_df.withColumn('event_time', current_timestamp())"
   ]
  },
  {
   "cell_type": "code",
   "execution_count": 85,
   "id": "422ca645-9fc5-44b5-8280-bb3d6893a96c",
   "metadata": {},
   "outputs": [
    {
     "name": "stdout",
     "output_type": "stream",
     "text": [
      "+--------------+---------+----------+-----+-----------+----------+---------+-----------+--------------------+--------------------+--------------+---------+--------------------+--------------------+--------+----------+--------------------+\n",
      "|vehical_number|   county|      city|state|postal_code|model_year|     make|      model|        vehical_type|    cavf_eligibility|electric_range|base_msrp|legislative_district|    electric_utility|latitude| longitude|          event_time|\n",
      "+--------------+---------+----------+-----+-----------+----------+---------+-----------+--------------------+--------------------+--------------+---------+--------------------+--------------------+--------+----------+--------------------+\n",
      "|    5YJ3E1EB6K|     King|   Seattle|   WA|      98178|      2019|    TESLA|    MODEL 3|Battery Electric ...|Clean Alternative...|           220|        0|                  37|CITY OF SEATTLE -...|47.49461|-122.23825|2025-05-22 10:45:...|\n",
      "|    5YJYGAEE5M|   Yakima|     Selah|   WA|      98942|      2021|    TESLA|    MODEL Y|Battery Electric ...|Eligibility unkno...|             0|        0|                  15|          PACIFICORP|46.65405|-120.53145|2025-05-22 10:45:...|\n",
      "|    5YJSA1E65N|   Yakima|   Granger|   WA|      98932|      2022|    TESLA|    MODEL S|Battery Electric ...|Eligibility unkno...|             0|        0|                  15|          PACIFICORP|46.33949| -120.1871|2025-05-22 10:45:...|\n",
      "|    5YJ3E1EBXN|     King|  Bellevue|   WA|      98004|      2022|    TESLA|    MODEL 3|Battery Electric ...|Eligibility unkno...|             0|        0|                  41|PUGET SOUND ENERG...|47.61001| -122.1872|2025-05-22 10:45:...|\n",
      "|    JM3KKEHA8S| Thurston|      Yelm|   WA|      98597|      2025|    MAZDA|      CX-90|Plug-in Hybrid El...|Not eligible due ...|            26|        0|                   2|PUGET SOUND ENERG...|46.94239|-122.60735|2025-05-22 10:45:...|\n",
      "|    5YJSA1E45H| Thurston|   Olympia|   WA|      98512|      2017|    TESLA|    MODEL S|Battery Electric ...|Clean Alternative...|           210|        0|                  35|PUGET SOUND ENERG...|47.01359| -122.9131|2025-05-22 10:45:...|\n",
      "|    5YJ3E1EB6J|     King|    Burien|   WA|      98166|      2018|    TESLA|    MODEL 3|Battery Electric ...|Clean Alternative...|           215|        0|                  34|CITY OF SEATTLE -...|47.46593|-122.34134|2025-05-22 10:45:...|\n",
      "|    1N4BZ1CP3K|Snohomish| Snohomish|   WA|      98290|      2019|   NISSAN|       LEAF|Battery Electric ...|Clean Alternative...|           150|        0|                  39|PUGET SOUND ENERG...|47.91265|-122.09305|2025-05-22 10:45:...|\n",
      "|    KM8K23AGXL|     King|   Seattle|   WA|      98125|      2020|  HYUNDAI|       KONA|Battery Electric ...|Clean Alternative...|           258|        0|                  46|CITY OF SEATTLE -...|47.72656|-122.30253|2025-05-22 10:45:...|\n",
      "|    1N4AZ0CP2F|     King|  Bellevue|   WA|      98006|      2015|   NISSAN|       LEAF|Battery Electric ...|Clean Alternative...|            84|        0|                  41|PUGET SOUND ENERG...|47.55584|-122.12096|2025-05-22 10:45:...|\n",
      "|    1N4AZ0CP6F|     King|  Kirkland|   WA|      98033|      2015|   NISSAN|       LEAF|Battery Electric ...|Clean Alternative...|            84|        0|                  48|PUGET SOUND ENERG...|47.67887| -122.2066|2025-05-22 10:45:...|\n",
      "|    5YJYGDEE2M|     King|   Bothell|   WA|      98011|      2021|    TESLA|    MODEL Y|Battery Electric ...|Eligibility unkno...|             0|        0|                   1|PUGET SOUND ENERG...|47.76144|-122.20563|2025-05-22 10:45:...|\n",
      "|    7JRBR0FL8K|     King|   Seattle|   WA|      98125|      2019|    VOLVO|        S60|Plug-in Hybrid El...|Not eligible due ...|            22|        0|                  46|CITY OF SEATTLE -...|47.72656|-122.30253|2025-05-22 10:45:...|\n",
      "|    1G1RD6E45E|   Yakima|    Yakima|   WA|      98908|      2014|CHEVROLET|       VOLT|Plug-in Hybrid El...|Clean Alternative...|            38|        0|                  14|          PACIFICORP|46.59817|-120.60199|2025-05-22 10:45:...|\n",
      "|    JTDKAMFP1M|   Kitsap| Bremerton|   WA|      98337|      2021|   TOYOTA|PRIUS PRIME|Plug-in Hybrid El...|Not eligible due ...|            25|        0|                  26|PUGET SOUND ENERG...|  47.565|-122.62749|2025-05-22 10:45:...|\n",
      "|    7SAYGDEE7N|   Yakima|    Yakima|   WA|      98908|      2022|    TESLA|    MODEL Y|Battery Electric ...|Eligibility unkno...|             0|        0|                  14|          PACIFICORP|46.59817|-120.60199|2025-05-22 10:45:...|\n",
      "|    1N4AZ1CP7K|     King|    Renton|   WA|      98055|      2019|   NISSAN|       LEAF|Battery Electric ...|Clean Alternative...|           150|        0|                  11|PUGET SOUND ENERG...|47.43876|  -122.197|2025-05-22 10:45:...|\n",
      "|    7SAXCBE61P|   Kitsap|Silverdale|   WA|      98383|      2023|    TESLA|    MODEL X|Battery Electric ...|Eligibility unkno...|             0|        0|                  23|PUGET SOUND ENERG...|47.65171|-122.69275|2025-05-22 10:45:...|\n",
      "|    5YJ3E1EB7J|     King|      Kent|   WA|      98030|      2018|    TESLA|    MODEL 3|Battery Electric ...|Clean Alternative...|           215|        0|                  47|PUGET SOUND ENERG...|47.37483|-122.19975|2025-05-22 10:45:...|\n",
      "|    1N4AZ0CP3D|     King|   Redmond|   WA|      98052|      2013|   NISSAN|       LEAF|Battery Electric ...|Clean Alternative...|            75|        0|                  45|PUGET SOUND ENERG...|47.67858|-122.13158|2025-05-22 10:45:...|\n",
      "+--------------+---------+----------+-----+-----------+----------+---------+-----------+--------------------+--------------------+--------------+---------+--------------------+--------------------+--------+----------+--------------------+\n",
      "only showing top 20 rows\n",
      "\n"
     ]
    }
   ],
   "source": [
    "new_df.show()"
   ]
  },
  {
   "cell_type": "code",
   "execution_count": 86,
   "id": "13067ed4-277d-4e3b-bf6c-5fbe14ae7562",
   "metadata": {},
   "outputs": [],
   "source": [
    "# Define Hudi write options\n",
    "hudi_options = {\n",
    "    'hoodie.table.name': 'ev_data_cleaned',\n",
    "    'hoodie.datasource.write.storage.type': 'COPY_ON_WRITE',\n",
    "    'hoodie.datasource.write.recordkey.field': 'vehical_number',\n",
    "    'hoodie.datasource.write.partitionpath.field': 'state',\n",
    "    'hoodie.datasource.write.precombine.field': 'event_time',\n",
    "    'hoodie.upsert.shuffle.parallelism': '2',\n",
    "    'hoodie.insert.shuffle.parallelism': '2',\n",
    "    \n",
    "}"
   ]
  },
  {
   "cell_type": "code",
   "execution_count": 89,
   "id": "05768114-e319-444b-b247-62923e33969f",
   "metadata": {},
   "outputs": [],
   "source": [
    "output_path = \"hdfs://namenode:9000/data/hudi/ev_data_cleaned\"\n",
    "\n",
    "# Write to Hudi\n",
    "new_df.write.format(\"hudi\") \\\n",
    "    .options(**hudi_options) \\\n",
    "    .mode(\"append\") \\\n",
    "    .save(output_path)"
   ]
  },
  {
   "cell_type": "code",
   "execution_count": null,
   "id": "962fa968-89f3-4d93-9d4b-0a5768ec4c65",
   "metadata": {},
   "outputs": [],
   "source": []
  }
 ],
 "metadata": {
  "kernelspec": {
   "display_name": "Python 3 (ipykernel)",
   "language": "python",
   "name": "python3"
  },
  "language_info": {
   "codemirror_mode": {
    "name": "ipython",
    "version": 3
   },
   "file_extension": ".py",
   "mimetype": "text/x-python",
   "name": "python",
   "nbconvert_exporter": "python",
   "pygments_lexer": "ipython3",
   "version": "3.11.6"
  }
 },
 "nbformat": 4,
 "nbformat_minor": 5
}
