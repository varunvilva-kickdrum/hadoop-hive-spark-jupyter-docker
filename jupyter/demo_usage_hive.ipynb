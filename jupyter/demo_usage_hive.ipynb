{
 "cells": [
  {
   "cell_type": "code",
   "execution_count": 1,
   "id": "711bfa6d-5899-4948-b584-fca340eba0ed",
   "metadata": {},
   "outputs": [
    {
     "name": "stdout",
     "output_type": "stream",
     "text": [
      "+---------+\n",
      "|namespace|\n",
      "+---------+\n",
      "|  default|\n",
      "+---------+\n",
      "\n"
     ]
    }
   ],
   "source": [
    "from pyspark.sql import SparkSession\n",
    "\n",
    "# Create a Spark session with Hive support\n",
    "spark = SparkSession.builder \\\n",
    "    .appName(\"Hive Test\") \\\n",
    "    .config(\"spark.master\", \"spark://spark-master:7077\") \\\n",
    "    .config(\"spark.sql.warehouse.dir\", \"hdfs://namenode:9000/user/hive/warehouse\") \\\n",
    "    .enableHiveSupport() \\\n",
    "    .getOrCreate()\n",
    "\n",
    "# Query Hive\n",
    "result = spark.sql(\"SHOW DATABASES\")\n",
    "result.show()"
   ]
  },
  {
   "cell_type": "code",
   "execution_count": 2,
   "id": "f14c8597-ecab-4bfe-87d9-1065db4574ae",
   "metadata": {},
   "outputs": [],
   "source": [
    "df = spark.read.option(\"header\", \"true\").option(\"inferSchema\", \"true\").csv(\"hdfs://namenode:9000/data/new_sales-Copy1.csv\")"
   ]
  },
  {
   "cell_type": "code",
   "execution_count": 4,
   "id": "0206c823-1c4d-41b9-be62-c4eb4d99a41d",
   "metadata": {},
   "outputs": [
    {
     "data": {
      "text/plain": [
       "DataFrame[]"
      ]
     },
     "execution_count": 4,
     "metadata": {},
     "output_type": "execute_result"
    }
   ],
   "source": [
    "spark.sql(\"CREATE DATABASE IF NOT EXISTS dummy_db\")\n",
    "spark.sql(\"USE dummy_db\")"
   ]
  },
  {
   "cell_type": "code",
   "execution_count": 5,
   "id": "06a58787-1757-426c-863b-144bf0b08f03",
   "metadata": {},
   "outputs": [],
   "source": [
    "df.write.mode(\"overwrite\").saveAsTable(\"dummy_db.new_sales\")"
   ]
  },
  {
   "cell_type": "code",
   "execution_count": 6,
   "id": "3624e4bf-8ed9-47e7-86d0-73a39f3a4bef",
   "metadata": {},
   "outputs": [
    {
     "name": "stdout",
     "output_type": "stream",
     "text": [
      "+-------------------+----------+-----------+--------------------+--------------------+----------+\n",
      "|      transacted_at|    trx_id|retailer_id|         description|              amount|   city_id|\n",
      "+-------------------+----------+-----------+--------------------+--------------------+----------+\n",
      "|2017-12-26 22:00:00| 366108431|  400404203|CVS     ccd id: 1...|233.5700000000000...|1607451095|\n",
      "|2017-12-26 22:00:00| 366108334| 1076023740|Aldi  ccd id: 105...|345.9200000000000...| 576817662|\n",
      "|2017-12-26 22:00:00| 366107505|  486576507|iTunes        Nas...|68.54000000000000...|1217211842|\n",
      "|2017-12-26 22:00:00| 366107466|  847200066|            Wal-Mart|176.7700000000000...|1607451095|\n",
      "|2017-12-26 22:00:00| 366107437|  847200066|unkn  ppd id: 107...|1242.890000000000...|1410131357|\n",
      "|2017-12-26 22:00:00| 366107404| 1245928212|unkn    ppd id: 4...|1944.890000000000...|1717498102|\n",
      "|2017-12-26 22:00:00| 366107312| 1953761884|Home Depot       ...|1921.800000000000...|1217211842|\n",
      "|2017-12-26 22:00:00| 366107282| 1564732452|Lowe's   arc id: ...|73.37000000000000...|1194163531|\n",
      "|2017-12-26 22:00:00| 366106600| 1070485878|Amazon.com     ar...|312.4800000000000...|1759612211|\n",
      "|2017-12-26 22:00:00| 366106540|  887300947|Kroger  ppd id: 4...|64.49000000000000...| 275328977|\n",
      "|2017-12-26 22:00:00| 366106536| 1550387736|unkn     ppd id: ...|2781.930000000000...|1606354386|\n",
      "|2017-12-26 22:00:00| 366106508| 1070485878|Amazon.com   arc ...|44.51000000000000...|2074005445|\n",
      "|2017-12-26 22:00:00| 366106322|  847200066|unkn   ppd id: 47...|52.33000000000000...|1687023604|\n",
      "|2017-12-26 22:00:00| 366105644|   85291309|Ahold    ccd id: ...|414.5000000000000...|1930640395|\n",
      "|2017-12-26 22:00:00| 366105553| 1070485878|unkn     arc id: ...|923.8300000000000...|1314899995|\n",
      "|2017-12-26 22:00:00| 366105552|  847200066|Wal-Mart  arc id:...|241.1900000000000...|1683103551|\n",
      "|2017-12-26 22:00:00| 366105458|   87529419|unkn     ccd id: ...|230.1400000000000...|2096878759|\n",
      "|2017-12-26 22:00:00| 366105395| 1245928212|unkn  arc id: 971890|665.9400000000000...|1985376021|\n",
      "|2017-12-26 22:00:00|1535388684| 1006678445|unkn   arc id: 83...|2819.400000000000...|1717498102|\n",
      "|2017-12-26 22:00:00|1535388710| 1522061472|YUM! Brands  ppd ...|89.00000000000000...|1683103551|\n",
      "+-------------------+----------+-----------+--------------------+--------------------+----------+\n",
      "only showing top 20 rows\n",
      "\n"
     ]
    }
   ],
   "source": [
    "result = spark.sql(\"SELECT * FROM dummy_db.new_sales WHERE amount > 40\")\n",
    "result.show()"
   ]
  },
  {
   "cell_type": "code",
   "execution_count": null,
   "id": "d0b7fd05-c11e-4884-bf6e-5b6bcf570cf7",
   "metadata": {},
   "outputs": [],
   "source": []
  }
 ],
 "metadata": {
  "kernelspec": {
   "display_name": "Python 3 (ipykernel)",
   "language": "python",
   "name": "python3"
  },
  "language_info": {
   "codemirror_mode": {
    "name": "ipython",
    "version": 3
   },
   "file_extension": ".py",
   "mimetype": "text/x-python",
   "name": "python",
   "nbconvert_exporter": "python",
   "pygments_lexer": "ipython3",
   "version": "3.11.6"
  }
 },
 "nbformat": 4,
 "nbformat_minor": 5
}
